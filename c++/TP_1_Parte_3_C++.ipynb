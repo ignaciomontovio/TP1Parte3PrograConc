{
  "nbformat": 4,
  "nbformat_minor": 0,
  "metadata": {
    "colab": {
      "provenance": []
    },
    "kernelspec": {
      "name": "python3",
      "display_name": "Python 3"
    },
    "language_info": {
      "name": "python"
    }
  },
  "cells": [
    {
      "cell_type": "markdown",
      "source": [
        "# TP 1 - Parte 3 - C++\n",
        "\n",
        "Creamos unas carpetas para organizarnos..."
      ],
      "metadata": {
        "id": "06-fhRa4n64Y"
      }
    },
    {
      "cell_type": "code",
      "source": [
        "!mkdir src\n",
        "!mkdir bin"
      ],
      "metadata": {
        "id": "MaakG4KqDpM7"
      },
      "execution_count": 1,
      "outputs": []
    },
    {
      "cell_type": "markdown",
      "source": [
        "El codigo fuente:"
      ],
      "metadata": {
        "id": "WJLrSuY-qIMW"
      }
    },
    {
      "cell_type": "code",
      "source": [
        "%%writefile src/hashstr.cpp\n",
        "#include <atomic>\n",
        "#include <cctype>\n",
        "#include <cstring>\n",
        "#include <iostream>\n",
        "#include <thread>\n",
        "#include <vector>\n",
        "\n",
        "#define CHAR_OFFSET ('A' - 1)\n",
        "#define NOT_MODIFIED 0\n",
        "\n",
        "// -- Funciones utilizadas --\n",
        "int Hash(const char c);\n",
        "void Hashing(const std::string &str, size_t count,\n",
        "             std::vector<std::atomic_int> &hashed_values);\n",
        "\n",
        "// -- Main function --\n",
        "int main(int argc, const char *argv[])\n",
        "{\n",
        "  size_t length;\n",
        "\n",
        "  // -- Nos aseguramos que la cadena pasada como argumento sea valida --\n",
        "  if (argc < 1 || argv[1] == nullptr || (length = strlen(argv[1])) <= 0)\n",
        "  {\n",
        "    std::cerr << \"[Error] - Missing string parameter\" << std::endl;\n",
        "    return EXIT_FAILURE;\n",
        "  }\n",
        "\n",
        "  // -- Variables utilizadas --\n",
        "  // -- Para mantener la sincronizacion entre hilos utilizamos enteros atomicos\n",
        "  // --\n",
        "  std::vector<std::atomic_int> hashed_values(length);\n",
        "  std::string str(argv[1], length);\n",
        "  size_t half = length / 2;\n",
        "  std::thread t1, t2;\n",
        "\n",
        "  // -- Si el tamaño de la cadena es par lo repartimos equitativamente --\n",
        "  if (length % 2 == 0)\n",
        "  {\n",
        "    t1 = std::thread(Hashing, str, half, std::ref(hashed_values));\n",
        "    t2 = std::thread(Hashing, str, half, std::ref(hashed_values));\n",
        "  }\n",
        "  // -- Sino le damos uno de mas al primer hilo --\n",
        "  else\n",
        "  {\n",
        "    t1 = std::thread(Hashing, str, half + 1, std::ref(hashed_values));\n",
        "    t2 = std::thread(Hashing, str, half, std::ref(hashed_values));\n",
        "  }\n",
        "\n",
        "  // -- Esperamos que terminen su ejecucion --\n",
        "  t1.join();\n",
        "  t2.join();\n",
        "\n",
        "  // -- Imprimos todos los elementos menos el ultimo,\n",
        "  //    para evitarnos dejar una coma de mas --\n",
        "  std::cout << \"Result: [\";\n",
        "  for (size_t i = 0; i < length - 1; i++)\n",
        "  {\n",
        "    std::cout << hashed_values[i] << \", \";\n",
        "  }\n",
        "  std::cout << hashed_values[length - 1] << \"]\" << std::endl;\n",
        "\n",
        "  return EXIT_SUCCESS;\n",
        "}\n",
        "\n",
        "// -- La idea general para mantener la sincronizacion es utilizar un vector\n",
        "//    con sus elementos protejidos (en este caso de manera atomica)\n",
        "//    y solo modificar los que no estan siendo usados o no hayan sido\n",
        "//    modificados --\n",
        "void Hashing(const std::string &str, size_t count,\n",
        "             std::vector<std::atomic_int> &hashed_values)\n",
        "{\n",
        "  // -- Iteramos hasta que se acabe la cadena o\n",
        "  //    haya cumplido con su cantidad de elementos especificada --\n",
        "  for (size_t i = 0; count > 0 && i < str.length(); i++)\n",
        "  {\n",
        "    // -- Antes de tratar de modificarlo nos fijamos si el elemento atomico\n",
        "    //    esta siendo utilizado o si ya fue modificado --\n",
        "    if (hashed_values[i].is_lock_free() && hashed_values[i] == NOT_MODIFIED)\n",
        "    {\n",
        "      hashed_values[i] = Hash(str[i]);\n",
        "      count--;\n",
        "    }\n",
        "  }\n",
        "}\n",
        "\n",
        "// -- Con esta funcion nos aseguramos que el char 'c' este en mayuscula,\n",
        "//    y luego le restamos un offset para que nos de un valor entre 1 y 27.\n",
        "//    En caso de no ser un valor alfabetico nos devolvera un 0 --\n",
        "int Hash(const char c) { return (isalpha(c)) ? toupper(c) - CHAR_OFFSET : 0; }"
      ],
      "metadata": {
        "colab": {
          "base_uri": "https://localhost:8080/"
        },
        "id": "UBCzNd-ClqrU",
        "outputId": "c18e0b56-e0b6-4449-f509-3635cb0ce596"
      },
      "execution_count": 7,
      "outputs": [
        {
          "output_type": "stream",
          "name": "stdout",
          "text": [
            "Overwriting src/hashstr.cpp\n"
          ]
        }
      ]
    },
    {
      "cell_type": "markdown",
      "source": [
        "Compilamos..."
      ],
      "metadata": {
        "id": "OwP-7dvvW3u4"
      }
    },
    {
      "cell_type": "code",
      "source": [
        "!g++ -std=c++17 -g src/hashstr.cpp -o bin/hashstr"
      ],
      "metadata": {
        "id": "CXmJejcGEOQX"
      },
      "execution_count": 8,
      "outputs": []
    },
    {
      "cell_type": "code",
      "source": [
        "!bin/hashstr arbolito"
      ],
      "metadata": {
        "id": "03xaJKdsETYv",
        "colab": {
          "base_uri": "https://localhost:8080/"
        },
        "outputId": "5e2931de-1863-49bd-9f5e-9febd0bbf61f"
      },
      "execution_count": 9,
      "outputs": [
        {
          "output_type": "stream",
          "name": "stdout",
          "text": [
            "Result: [1, 18, 2, 15, 12, 9, 20, 15]\n"
          ]
        }
      ]
    },
    {
      "cell_type": "markdown",
      "source": [
        "El programa nos avisara si no se ingresa una cadena como parametro."
      ],
      "metadata": {
        "id": "Gij1bHt1WiiA"
      }
    },
    {
      "cell_type": "code",
      "source": [
        "!bin/hashstr"
      ],
      "metadata": {
        "colab": {
          "base_uri": "https://localhost:8080/"
        },
        "id": "IFTitVejWgGq",
        "outputId": "2d65bd72-136c-4bdc-b5d8-9671c5de27b1"
      },
      "execution_count": 10,
      "outputs": [
        {
          "output_type": "stream",
          "name": "stdout",
          "text": [
            "[Error] - Missing string parameter\n"
          ]
        }
      ]
    }
  ]
}