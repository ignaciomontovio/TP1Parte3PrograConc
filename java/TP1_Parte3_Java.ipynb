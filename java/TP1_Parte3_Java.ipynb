{
 "nbformat": 4,
 "nbformat_minor": 0,
 "metadata": {
  "colab": {
   "provenance": [],
   "authorship_tag": "ABX9TyPZDzMl6r2PgASXyPeVeSo0",
   "include_colab_link": true
  },
  "kernelspec": {
   "name": "python3",
   "display_name": "Python 3"
  },
  "language_info": {
   "name": "python"
  }
 },
 "cells": [
  {
   "cell_type": "markdown",
   "metadata": {
    "id": "view-in-github",
    "colab_type": "text"
   },
   "source": [
    "<a href=\"https://colab.research.google.com/github/ignaciomontovio/TP1Parte3PrograConc/blob/java/java/TP1_Parte3_Java.ipynb\" target=\"_parent\"><img src=\"https://colab.research.google.com/assets/colab-badge.svg\" alt=\"Open In Colab\"/></a>"
   ]
  },
  {
   "cell_type": "code",
   "execution_count": 49,
   "metadata": {
    "id": "jMZqYjvS_Rox"
   },
   "outputs": [],
   "source": [
    "import os\n",
    "\n",
    "# Crear el directorio src\n",
    "os.makedirs(\"src\", exist_ok=True)\n",
    "\n",
    "# Crear el directorio bin\n",
    "os.makedirs(\"bin\", exist_ok=True)"
   ]
  },
  {
   "cell_type": "code",
   "source": [
    "%%writefile src/Main.java\n",
    "package ejercicio;\n",
    "\n",
    "import java.util.HashMap;\n",
    "import java.util.Map;\n",
    "import java.util.NoSuchElementException;\n",
    "import java.util.Random;\n",
    "import java.util.Scanner;\n",
    "import java.util.concurrent.ArrayBlockingQueue;\n",
    "\n",
    "public class Main\n",
    "{\n",
    "\n",
    "  public static Integer AMOUNT_OF_NUMBERS;\n",
    "  public static final int LIMIT_NUMBER = 99;\n",
    "  public static ArrayBlockingQueue<Integer> LIST_OF_NUMBERS;\n",
    "\n",
    "  public static class ProducerThread implements Runnable\n",
    "  {\n",
    "\n",
    "    @Override\n",
    "    public void run()\n",
    "    {\n",
    "      Random rand = new Random();\n",
    "      for (int i = 0; i < AMOUNT_OF_NUMBERS; i++)\n",
    "      {\n",
    "        Integer randomValue = rand.nextInt(LIMIT_NUMBER + 1);\n",
    "        System.out.println(\"Se ha producido el número \" + randomValue);\n",
    "        LIST_OF_NUMBERS.add(randomValue);\n",
    "      }\n",
    "    }\n",
    "  }\n",
    "\n",
    "  public static class ConsumerThread implements Runnable\n",
    "  {\n",
    "\n",
    "    @Override\n",
    "    public void run()\n",
    "    {\n",
    "      int sum = 0,\n",
    "          max = 0,\n",
    "          min = 100,\n",
    "          number;\n",
    "      Map<Integer, Integer> numberFrecuencyMap = new HashMap<>();\n",
    "      try\n",
    "      {\n",
    "        for (int i = 0; i < AMOUNT_OF_NUMBERS; i++)\n",
    "        {\n",
    "          number = LIST_OF_NUMBERS.take();\n",
    "          sum += number;\n",
    "          if (number > max)\n",
    "          {\n",
    "            max = number;\n",
    "          }\n",
    "          if (number < min)\n",
    "          {\n",
    "            min = number;\n",
    "          }\n",
    "          numberFrecuencyMap.put(number, numberFrecuencyMap.getOrDefault(number, 0) + 1);\n",
    "        }\n",
    "      } catch (Exception e)\n",
    "      {\n",
    "        throw new NoSuchElementException(\n",
    "            \"Error taking from queue LIST_OF_NUMBERS.\" + e.getMessage());\n",
    "      }\n",
    "      System.out.println(\"La suma de los valores es: \" + sum);\n",
    "      System.out.println(\"El valor máximo es: \" + max);\n",
    "      System.out.println(\"El valor mínimo es: \" + min);\n",
    "      System.out.println(\"El promedio de los valores es: \" + (float)sum / AMOUNT_OF_NUMBERS);\n",
    "      Integer maxFrecuency = numberFrecuencyMap.values().stream().max(Integer::compare).get();\n",
    "      System.out.println(\"El/Los valor/es mas frecuente/s son: \");\n",
    "      numberFrecuencyMap.forEach((key, value) ->\n",
    "      {\n",
    "        if (value.equals(maxFrecuency))\n",
    "        {\n",
    "          System.out.println(key);\n",
    "        }\n",
    "      });\n",
    "      System.out.println(\"El/Los valor/es ha/n aparecido \" + maxFrecuency + \" veces.\");\n",
    "    }\n",
    "  }\n",
    "\n",
    "  public static void main(String[] args) throws InterruptedException\n",
    "  {\n",
    "    AMOUNT_OF_NUMBERS = Integer.parseInt(args[0]);\n",
    "    LIST_OF_NUMBERS = new ArrayBlockingQueue<>(AMOUNT_OF_NUMBERS);\n",
    "    Thread producer = new Thread(new ProducerThread());\n",
    "    Thread consumer = new Thread(new ConsumerThread());\n",
    "    producer.start();\n",
    "    consumer.start();\n",
    "\n",
    "    producer.join();\n",
    "    consumer.join();\n",
    "  }\n",
    "}"
   ],
   "metadata": {
    "colab": {
     "base_uri": "https://localhost:8080/"
    },
    "id": "KR8VW239_kLG",
    "outputId": "3bee9f4f-67cf-43d1-eca4-c2d7a689be52"
   },
   "execution_count": 50,
   "outputs": [
    {
     "output_type": "stream",
     "name": "stdout",
     "text": [
      "Overwriting src/Main.java\n"
     ]
    }
   ]
  },
  {
   "cell_type": "code",
   "source": [
    "%%writefile run.sh\n",
    "#!/usr/bin/env bash\n",
    "NUMERO_DE_VALORES=5\n",
    "# Compilar Main.java y crear el directorio bin si no existe\n",
    "javac -d bin src/Main.java\n",
    "mkdir -p bin/ejercicio\n",
    "\n",
    "# Compilar Main.java y mover los archivos .class al directorio bin/tp2\n",
    "java -cp bin ejercicio.Main ${NUMERO_DE_VALORES} 1>output 2>/dev/null &\n",
    "wait $!\n",
    "\n",
    "cat ./output"
   ],
   "metadata": {
    "colab": {
     "base_uri": "https://localhost:8080/"
    },
    "id": "EAadGDlX_y6E",
    "outputId": "c43c09b0-b4be-48d1-9b26-58f9e4842710"
   },
   "execution_count": 51,
   "outputs": [
    {
     "output_type": "stream",
     "name": "stdout",
     "text": [
      "Overwriting run.sh\n"
     ]
    }
   ]
  },
  {
   "cell_type": "code",
   "source": [
    "!bash run.sh"
   ],
   "metadata": {
    "colab": {
     "base_uri": "https://localhost:8080/"
    },
    "id": "dEZKG5Wh_39W",
    "outputId": "ee4da7e5-33ad-4227-b01c-7c20972076ef"
   },
   "execution_count": 52,
   "outputs": [
    {
     "output_type": "stream",
     "name": "stdout",
     "text": [
      "Ingrese la cantidad de números a evaluar\n",
      "Se ha producido el número 46\n",
      "Se ha producido el número 40\n",
      "Se ha producido el número 1\n",
      "Se ha producido el número 50\n",
      "Se ha producido el número 34\n",
      "La suma de los valores es: 171\n",
      "El valor máximo es: 50\n",
      "El valor mínimo es: 1\n",
      "El promedio de los valores es: 34\n",
      "El/Los valor/es mas frecuente/s son: \n",
      "1\n",
      "50\n",
      "34\n",
      "40\n",
      "46\n",
      "El/Los valor/es ha/n aparecido 1 veces.\n"
     ]
    }
   ]
  }
 ]
}
